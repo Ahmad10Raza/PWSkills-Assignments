{
 "cells": [
  {
   "attachments": {},
   "cell_type": "markdown",
   "metadata": {},
   "source": [
    "<a id=\"0\"></a>\n",
    "\n",
    "# <p style=\"padding:10px;background-color:#87CEEB ;margin:10;color:#000000;font-family:newtimeroman;font-size:100%;text-align:center;border-radius: 10px 10px ;overflow:hidden;font-weight:50\">Assignment  21: Image Scraping - Utkarsh Gaikwad</p>"
   ]
  },
  {
   "attachments": {},
   "cell_type": "markdown",
   "metadata": {},
   "source": [
    "[Assignment pdf link](22%20Feb_Assignment.pdf)"
   ]
  },
  {
   "attachments": {},
   "cell_type": "markdown",
   "metadata": {},
   "source": [
    "<a id=\"url\"></a>\n",
    "\n",
    "# <p style=\"padding:10px;background-color:#87CEEB ;margin:10;color:#000000;font-family:newtimeroman;font-size:100%;text-align:center;border-radius: 10px 10px ;overflow:hidden;font-weight:50\">URL To Scrape</p>"
   ]
  },
  {
   "attachments": {},
   "cell_type": "markdown",
   "metadata": {},
   "source": [
    "## URL To Scrape : [https://www.youtube.com/@PW-Foundation/videos](https://www.youtube.com/@PW-Foundation/videos)"
   ]
  },
  {
   "attachments": {},
   "cell_type": "markdown",
   "metadata": {},
   "source": [
    "<a id=\"log\"></a>\n",
    "\n",
    "# <p style=\"padding:10px;background-color:#87CEEB ;margin:10;color:#000000;font-family:newtimeroman;font-size:100%;text-align:center;border-radius: 10px 10px ;overflow:hidden;font-weight:50\">Setting Up logging</p>"
   ]
  },
  {
   "cell_type": "code",
   "execution_count": 1,
   "metadata": {},
   "outputs": [],
   "source": [
    "import logging\n",
    "logging.basicConfig(filename='ImageScrapping.log',level=logging.DEBUG,format= '%(asctime)s - %(name)s - %(levelname)s - %(message)s')"
   ]
  },
  {
   "attachments": {},
   "cell_type": "markdown",
   "metadata": {},
   "source": [
    "<a id=\"1\"></a>\n",
    "\n",
    "# <p style=\"padding:10px;background-color:#87CEEB ;margin:10;color:#000000;font-family:newtimeroman;font-size:100%;text-align:center;border-radius: 10px 10px ;overflow:hidden;font-weight:50\">Question 1</p>"
   ]
  },
  {
   "attachments": {},
   "cell_type": "markdown",
   "metadata": {},
   "source": [
    "## Question 1 : Write a python program to extract the video URL of the first five videos.\n",
    "---"
   ]
  },
  {
   "attachments": {},
   "cell_type": "markdown",
   "metadata": {},
   "source": [
    "## Answer:\n",
    "\n",
    "### Youtube is a dynamic website which is created with JavaScript . \n",
    "\n",
    "### Beautiful Soup will fail in scraping of given url.\n",
    "\n",
    "### Using Selenium to extract the data"
   ]
  },
  {
   "attachments": {},
   "cell_type": "markdown",
   "metadata": {},
   "source": [
    "### Step 1: Import Selenium"
   ]
  },
  {
   "cell_type": "code",
   "execution_count": 1,
   "metadata": {},
   "outputs": [],
   "source": [
    "from selenium import webdriver\n",
    "from selenium.webdriver.common.by import By"
   ]
  },
  {
   "attachments": {},
   "cell_type": "markdown",
   "metadata": {},
   "source": [
    "### Step 2: Defining a function to get top5 urls from the channel "
   ]
  },
  {
   "cell_type": "code",
   "execution_count": 7,
   "metadata": {},
   "outputs": [],
   "source": [
    "import time\n",
    "def top5url(url):\n",
    "    video_urls = []\n",
    "    driver = webdriver.Chrome(executable_path=\".\\Assignment 21 - 22 February 2023\\chromedriver.exe\")\n",
    "    for i in range(5):\n",
    "        driver.get(url)\n",
    "        if i==0:\n",
    "            time.sleep(4)\n",
    "        else:\n",
    "            time.sleep(2)\n",
    "        link_finder = driver.find_elements(By.XPATH,\"//a[@id='thumbnail']\")\n",
    "        link_finder[i+1].click()\n",
    "        time.sleep(2)\n",
    "        video_urls.append(driver.current_url)\n",
    "    driver.close()\n",
    "    return video_urls"
   ]
  },
  {
   "attachments": {},
   "cell_type": "markdown",
   "metadata": {},
   "source": [
    "### Step 3: Executing the function to get top5 URL's"
   ]
  },
  {
   "cell_type": "code",
   "execution_count": 8,
   "metadata": {},
   "outputs": [
    {
     "name": "stderr",
     "output_type": "stream",
     "text": [
      "C:\\Users\\Utkarsh Gaikwad\\AppData\\Local\\Temp\\ipykernel_1728\\888358955.py:4: DeprecationWarning: executable_path has been deprecated, please pass in a Service object\n",
      "  driver = webdriver.Chrome(executable_path=\".\\Assignment 21 - 22 February 2023\\chromedriver.exe\")\n"
     ]
    }
   ],
   "source": [
    "url = \"https://www.youtube.com/@PW-Foundation/videos\"\n",
    "top5links = top5url(url)"
   ]
  },
  {
   "cell_type": "code",
   "execution_count": 9,
   "metadata": {},
   "outputs": [
    {
     "data": {
      "text/plain": [
       "['https://www.youtube.com/watch?v=AM2Dt7cNebw',\n",
       " 'https://www.youtube.com/watch?v=7nMJVhey9TM',\n",
       " 'https://www.youtube.com/watch?v=FSVVlcFUCMk',\n",
       " 'https://www.youtube.com/watch?v=vKxdTuOirnI',\n",
       " 'https://www.youtube.com/watch?v=hC86u4g6QPk']"
      ]
     },
     "execution_count": 9,
     "metadata": {},
     "output_type": "execute_result"
    }
   ],
   "source": [
    "top5links"
   ]
  },
  {
   "attachments": {},
   "cell_type": "markdown",
   "metadata": {},
   "source": [
    "<a id=\"2\"></a>\n",
    "\n",
    "# <p style=\"padding:10px;background-color:#87CEEB ;margin:10;color:#000000;font-family:newtimeroman;font-size:100%;text-align:center;border-radius: 10px 10px ;overflow:hidden;font-weight:50\">Question 2</p>"
   ]
  },
  {
   "attachments": {},
   "cell_type": "markdown",
   "metadata": {},
   "source": [
    "## Question 2: Write a python program to extract the URL of the video thumbnails of the first five videos.\n",
    "---"
   ]
  },
  {
   "attachments": {},
   "cell_type": "markdown",
   "metadata": {},
   "source": [
    "## Answer:"
   ]
  },
  {
   "cell_type": "code",
   "execution_count": 17,
   "metadata": {},
   "outputs": [],
   "source": [
    "def thumbnail_urls(url):\n",
    "    driver = webdriver.Chrome(executable_path=\".\\Assignment 21 - 22 February 2023\\chromedriver.exe\")\n",
    "    driver.get(url)\n",
    "    driver.maximize_window()\n",
    "    time.sleep(4)\n",
    "    driver.execute_script(\"window.scrollTo(0, 200)\")\n",
    "    time.sleep(2)\n",
    "    images = driver.find_elements(By.TAG_NAME,'img')\n",
    "    img_links = []\n",
    "    for i in images:    \n",
    "        link = i.get_attribute('src')\n",
    "        if str(link).find('i.ytimg.com')>0:\n",
    "            img_links.append(link)\n",
    "    driver.close()\n",
    "    return img_links"
   ]
  },
  {
   "cell_type": "code",
   "execution_count": 18,
   "metadata": {},
   "outputs": [
    {
     "name": "stderr",
     "output_type": "stream",
     "text": [
      "C:\\Users\\Utkarsh Gaikwad\\AppData\\Local\\Temp\\ipykernel_1728\\875618061.py:2: DeprecationWarning: executable_path has been deprecated, please pass in a Service object\n",
      "  driver = webdriver.Chrome(executable_path=\".\\Assignment 21 - 22 February 2023\\chromedriver.exe\")\n"
     ]
    }
   ],
   "source": [
    "thumbnails = thumbnail_urls(url)"
   ]
  },
  {
   "cell_type": "code",
   "execution_count": 19,
   "metadata": {},
   "outputs": [
    {
     "data": {
      "text/plain": [
       "['https://i.ytimg.com/vi/AM2Dt7cNebw/hqdefault.jpg?sqp=-oaymwEcCNACELwBSFXyq4qpAw4IARUAAIhCGAFwAcABBg==&rs=AOn4CLBJHWHabeJ94dcUDlDDNfvQxnUfJg',\n",
       " 'https://i.ytimg.com/vi/7nMJVhey9TM/hqdefault.jpg?sqp=-oaymwEcCNACELwBSFXyq4qpAw4IARUAAIhCGAFwAcABBg==&rs=AOn4CLDHikOj7gH4eQNudv7c1qNbwcMWyA',\n",
       " 'https://i.ytimg.com/vi/FSVVlcFUCMk/hqdefault.jpg?sqp=-oaymwEcCNACELwBSFXyq4qpAw4IARUAAIhCGAFwAcABBg==&rs=AOn4CLAadJS9mLtZptLHtKHEefPgqk3NCg',\n",
       " 'https://i.ytimg.com/vi/vKxdTuOirnI/hqdefault.jpg?sqp=-oaymwEcCNACELwBSFXyq4qpAw4IARUAAIhCGAFwAcABBg==&rs=AOn4CLBonfyIr0oe5WzFo2o2hoU5Yxbv8w',\n",
       " 'https://i.ytimg.com/vi/hC86u4g6QPk/hqdefault.jpg?sqp=-oaymwEcCNACELwBSFXyq4qpAw4IARUAAIhCGAFwAcABBg==&rs=AOn4CLD5AeHXmdOF3J-FoFIAYtmfh28ciQ',\n",
       " 'https://i.ytimg.com/vi/7O5MY8Y1JCE/hqdefault.jpg?sqp=-oaymwEcCNACELwBSFXyq4qpAw4IARUAAIhCGAFwAcABBg==&rs=AOn4CLBH2cIH3mp1fEKJja5KVXiwRP3p4w',\n",
       " 'https://i.ytimg.com/vi/01iTPgZGjvM/hqdefault.jpg?sqp=-oaymwEcCNACELwBSFXyq4qpAw4IARUAAIhCGAFwAcABBg==&rs=AOn4CLCQovRQnmXciwx7jzgAzqrj3UCdQg',\n",
       " 'https://i.ytimg.com/vi/pXjLbNAa_ag/hqdefault.jpg?sqp=-oaymwEcCNACELwBSFXyq4qpAw4IARUAAIhCGAFwAcABBg==&rs=AOn4CLCen1qfPg4ypFCiezVWQrqIpEEbug']"
      ]
     },
     "execution_count": 19,
     "metadata": {},
     "output_type": "execute_result"
    }
   ],
   "source": [
    "thumbnails"
   ]
  },
  {
   "cell_type": "code",
   "execution_count": 20,
   "metadata": {},
   "outputs": [],
   "source": [
    "top5thumbnails = thumbnails[0:5]"
   ]
  },
  {
   "cell_type": "code",
   "execution_count": 21,
   "metadata": {},
   "outputs": [
    {
     "data": {
      "text/plain": [
       "['https://i.ytimg.com/vi/AM2Dt7cNebw/hqdefault.jpg?sqp=-oaymwEcCNACELwBSFXyq4qpAw4IARUAAIhCGAFwAcABBg==&rs=AOn4CLBJHWHabeJ94dcUDlDDNfvQxnUfJg',\n",
       " 'https://i.ytimg.com/vi/7nMJVhey9TM/hqdefault.jpg?sqp=-oaymwEcCNACELwBSFXyq4qpAw4IARUAAIhCGAFwAcABBg==&rs=AOn4CLDHikOj7gH4eQNudv7c1qNbwcMWyA',\n",
       " 'https://i.ytimg.com/vi/FSVVlcFUCMk/hqdefault.jpg?sqp=-oaymwEcCNACELwBSFXyq4qpAw4IARUAAIhCGAFwAcABBg==&rs=AOn4CLAadJS9mLtZptLHtKHEefPgqk3NCg',\n",
       " 'https://i.ytimg.com/vi/vKxdTuOirnI/hqdefault.jpg?sqp=-oaymwEcCNACELwBSFXyq4qpAw4IARUAAIhCGAFwAcABBg==&rs=AOn4CLBonfyIr0oe5WzFo2o2hoU5Yxbv8w',\n",
       " 'https://i.ytimg.com/vi/hC86u4g6QPk/hqdefault.jpg?sqp=-oaymwEcCNACELwBSFXyq4qpAw4IARUAAIhCGAFwAcABBg==&rs=AOn4CLD5AeHXmdOF3J-FoFIAYtmfh28ciQ']"
      ]
     },
     "execution_count": 21,
     "metadata": {},
     "output_type": "execute_result"
    }
   ],
   "source": [
    "top5thumbnails"
   ]
  },
  {
   "attachments": {},
   "cell_type": "markdown",
   "metadata": {},
   "source": [
    "<a id=\"3\"></a>\n",
    "\n",
    "# <p style=\"padding:10px;background-color:#87CEEB ;margin:10;color:#000000;font-family:newtimeroman;font-size:100%;text-align:center;border-radius: 10px 10px ;overflow:hidden;font-weight:50\">Question 3</p>"
   ]
  },
  {
   "attachments": {},
   "cell_type": "markdown",
   "metadata": {},
   "source": [
    "## Question 3: Write a python program to extract the title of the first five videos.\n",
    "---"
   ]
  },
  {
   "attachments": {},
   "cell_type": "markdown",
   "metadata": {},
   "source": [
    "## Answer :"
   ]
  },
  {
   "cell_type": "code",
   "execution_count": 22,
   "metadata": {},
   "outputs": [],
   "source": [
    "def title_finder(url):\n",
    "    driver = webdriver.Chrome(executable_path=\".\\Assignment 21 - 22 February 2023\\chromedriver.exe\")\n",
    "    driver.get(url)\n",
    "    time.sleep(4)\n",
    "    titles = driver.find_elements(By.XPATH,\"//yt-formatted-string[@id='video-title']\")\n",
    "    title_text = []\n",
    "    for i in titles:\n",
    "        title_text.append(i.text)\n",
    "    return(title_text)"
   ]
  },
  {
   "cell_type": "code",
   "execution_count": 23,
   "metadata": {},
   "outputs": [
    {
     "name": "stderr",
     "output_type": "stream",
     "text": [
      "C:\\Users\\Utkarsh Gaikwad\\AppData\\Local\\Temp\\ipykernel_1728\\2309397331.py:2: DeprecationWarning: executable_path has been deprecated, please pass in a Service object\n",
      "  driver = webdriver.Chrome(executable_path=\".\\Assignment 21 - 22 February 2023\\chromedriver.exe\")\n"
     ]
    }
   ],
   "source": [
    "titles = title_finder(url)"
   ]
  },
  {
   "cell_type": "code",
   "execution_count": 25,
   "metadata": {},
   "outputs": [
    {
     "data": {
      "text/plain": [
       "['Best technique to attempt SST paper in Board exam || Class 10th',\n",
       " 'Last Minute Strategy To Score More Than 98% || ICSE Boards || Class-10th',\n",
       " 'Why You Should Choose Commerce After 10th? || Complete Information💯',\n",
       " \"Follow This Plan To Score More Than 95% in Boards || Topper's Strategy\",\n",
       " 'Everything About COMMERCE Stream !! Which Stream to Choose After Class 10th?']"
      ]
     },
     "execution_count": 25,
     "metadata": {},
     "output_type": "execute_result"
    }
   ],
   "source": [
    "top5titles = titles[0:5]\n",
    "top5titles"
   ]
  },
  {
   "attachments": {},
   "cell_type": "markdown",
   "metadata": {},
   "source": [
    "<a id=\"4\"></a>\n",
    "\n",
    "# <p style=\"padding:10px;background-color:#87CEEB ;margin:10;color:#000000;font-family:newtimeroman;font-size:100%;text-align:center;border-radius: 10px 10px ;overflow:hidden;font-weight:50\">Question 4</p>"
   ]
  },
  {
   "attachments": {},
   "cell_type": "markdown",
   "metadata": {},
   "source": [
    "## Question 4: Write a python program to extract the number of views of the first five videos.\n",
    "---"
   ]
  },
  {
   "attachments": {},
   "cell_type": "markdown",
   "metadata": {},
   "source": [
    "## Answer:"
   ]
  },
  {
   "cell_type": "code",
   "execution_count": 26,
   "metadata": {},
   "outputs": [],
   "source": [
    "def views_finder(url):\n",
    "    driver = webdriver.Chrome(executable_path=\".\\Assignment 21 - 22 February 2023\\chromedriver.exe\")\n",
    "    driver.get(url)\n",
    "    time.sleep(4)\n",
    "    views = driver.find_elements(By.XPATH,\"//span[@class='inline-metadata-item style-scope ytd-video-meta-block']\")\n",
    "    view_counts = []\n",
    "    for i in views:\n",
    "        textstr = i.text\n",
    "        if textstr.find(\"views\")>0:\n",
    "            view_counts.append(textstr)\n",
    "    return view_counts"
   ]
  },
  {
   "cell_type": "code",
   "execution_count": 27,
   "metadata": {},
   "outputs": [
    {
     "name": "stderr",
     "output_type": "stream",
     "text": [
      "C:\\Users\\Utkarsh Gaikwad\\AppData\\Local\\Temp\\ipykernel_1728\\1221815839.py:2: DeprecationWarning: executable_path has been deprecated, please pass in a Service object\n",
      "  driver = webdriver.Chrome(executable_path=\".\\Assignment 21 - 22 February 2023\\chromedriver.exe\")\n"
     ]
    }
   ],
   "source": [
    "views = views_finder(url)"
   ]
  },
  {
   "cell_type": "code",
   "execution_count": 30,
   "metadata": {},
   "outputs": [
    {
     "data": {
      "text/plain": [
       "['37K views', '19K views', '26K views', '302K views', '25K views']"
      ]
     },
     "execution_count": 30,
     "metadata": {},
     "output_type": "execute_result"
    }
   ],
   "source": [
    "top5views = views[0:5]\n",
    "top5views"
   ]
  },
  {
   "attachments": {},
   "cell_type": "markdown",
   "metadata": {},
   "source": [
    "<a id=\"5\"></a>\n",
    "\n",
    "# <p style=\"padding:10px;background-color:#87CEEB ;margin:10;color:#000000;font-family:newtimeroman;font-size:100%;text-align:center;border-radius: 10px 10px ;overflow:hidden;font-weight:50\">Question 5</p>"
   ]
  },
  {
   "attachments": {},
   "cell_type": "markdown",
   "metadata": {},
   "source": [
    "## Question 5: Write a python program to extract the time of posting of video for the first five videos.\n",
    "---"
   ]
  },
  {
   "cell_type": "code",
   "execution_count": 33,
   "metadata": {},
   "outputs": [],
   "source": [
    "def time_and_exact_likes(url_list):\n",
    "    driver = webdriver.Chrome(executable_path=\".\\Assignment 21 - 22 February 2023\\chromedriver.exe\")\n",
    "    views_exact = []\n",
    "    dates = []\n",
    "    for i in url_list:\n",
    "        driver.get(i)\n",
    "        driver.maximize_window()\n",
    "        time.sleep(4)\n",
    "        driver.execute_script(\"window.scrollTo(0, 200)\")\n",
    "        time.sleep(1)\n",
    "        show_more = driver.find_element(By.XPATH,\"//tp-yt-paper-button[@id='expand']\")\n",
    "        show_more.click()\n",
    "        time.sleep(1)\n",
    "        views_and_date = driver.find_elements(By.XPATH,\"//span[@class='style-scope yt-formatted-string bold']\")\n",
    "        for j in views_and_date:\n",
    "            text_str = j.text\n",
    "            if text_str and text_str.strip():\n",
    "                if text_str.find('views')>0:\n",
    "                    views_exact.append(text_str)\n",
    "                else:\n",
    "                    dates.append(text_str)\n",
    "    return views_exact, dates"
   ]
  },
  {
   "cell_type": "code",
   "execution_count": 34,
   "metadata": {},
   "outputs": [
    {
     "name": "stderr",
     "output_type": "stream",
     "text": [
      "C:\\Users\\Utkarsh Gaikwad\\AppData\\Local\\Temp\\ipykernel_1728\\613247900.py:2: DeprecationWarning: executable_path has been deprecated, please pass in a Service object\n",
      "  driver = webdriver.Chrome(executable_path=\".\\Assignment 21 - 22 February 2023\\chromedriver.exe\")\n"
     ]
    }
   ],
   "source": [
    "views_exact, dates = time_and_exact_likes(top5links)"
   ]
  },
  {
   "cell_type": "code",
   "execution_count": 35,
   "metadata": {},
   "outputs": [
    {
     "data": {
      "text/plain": [
       "['37,836 views',\n",
       " '19,819 views',\n",
       " '26,934 views',\n",
       " '302,631 views',\n",
       " '25,806 views']"
      ]
     },
     "execution_count": 35,
     "metadata": {},
     "output_type": "execute_result"
    }
   ],
   "source": [
    "views_exact"
   ]
  },
  {
   "cell_type": "code",
   "execution_count": 36,
   "metadata": {},
   "outputs": [
    {
     "data": {
      "text/plain": [
       "['Feb 22, 2023', 'Feb 21, 2023', 'Feb 20, 2023', 'Feb 15, 2023', 'Feb 9, 2023']"
      ]
     },
     "execution_count": 36,
     "metadata": {},
     "output_type": "execute_result"
    }
   ],
   "source": [
    "dates"
   ]
  },
  {
   "attachments": {},
   "cell_type": "markdown",
   "metadata": {},
   "source": [
    "<a id=\"6\"></a>\n",
    "\n",
    "# <p style=\"padding:10px;background-color:#87CEEB ;margin:10;color:#000000;font-family:newtimeroman;font-size:100%;text-align:center;border-radius: 10px 10px ;overflow:hidden;font-weight:50\">Saving Data into csv file</p>"
   ]
  },
  {
   "cell_type": "code",
   "execution_count": 37,
   "metadata": {},
   "outputs": [
    {
     "data": {
      "text/html": [
       "<div>\n",
       "<style scoped>\n",
       "    .dataframe tbody tr th:only-of-type {\n",
       "        vertical-align: middle;\n",
       "    }\n",
       "\n",
       "    .dataframe tbody tr th {\n",
       "        vertical-align: top;\n",
       "    }\n",
       "\n",
       "    .dataframe thead th {\n",
       "        text-align: right;\n",
       "    }\n",
       "</style>\n",
       "<table border=\"1\" class=\"dataframe\">\n",
       "  <thead>\n",
       "    <tr style=\"text-align: right;\">\n",
       "      <th></th>\n",
       "      <th>title</th>\n",
       "      <th>urls</th>\n",
       "      <th>thumbnails</th>\n",
       "      <th>views</th>\n",
       "      <th>uploadDate</th>\n",
       "    </tr>\n",
       "  </thead>\n",
       "  <tbody>\n",
       "    <tr>\n",
       "      <th>0</th>\n",
       "      <td>Best technique to attempt SST paper in Board e...</td>\n",
       "      <td>https://www.youtube.com/watch?v=AM2Dt7cNebw</td>\n",
       "      <td>https://i.ytimg.com/vi/AM2Dt7cNebw/hqdefault.j...</td>\n",
       "      <td>37,836 views</td>\n",
       "      <td>Feb 22, 2023</td>\n",
       "    </tr>\n",
       "    <tr>\n",
       "      <th>1</th>\n",
       "      <td>Last Minute Strategy To Score More Than 98% ||...</td>\n",
       "      <td>https://www.youtube.com/watch?v=7nMJVhey9TM</td>\n",
       "      <td>https://i.ytimg.com/vi/7nMJVhey9TM/hqdefault.j...</td>\n",
       "      <td>19,819 views</td>\n",
       "      <td>Feb 21, 2023</td>\n",
       "    </tr>\n",
       "    <tr>\n",
       "      <th>2</th>\n",
       "      <td>Why You Should Choose Commerce After 10th? || ...</td>\n",
       "      <td>https://www.youtube.com/watch?v=FSVVlcFUCMk</td>\n",
       "      <td>https://i.ytimg.com/vi/FSVVlcFUCMk/hqdefault.j...</td>\n",
       "      <td>26,934 views</td>\n",
       "      <td>Feb 20, 2023</td>\n",
       "    </tr>\n",
       "    <tr>\n",
       "      <th>3</th>\n",
       "      <td>Follow This Plan To Score More Than 95% in Boa...</td>\n",
       "      <td>https://www.youtube.com/watch?v=vKxdTuOirnI</td>\n",
       "      <td>https://i.ytimg.com/vi/vKxdTuOirnI/hqdefault.j...</td>\n",
       "      <td>302,631 views</td>\n",
       "      <td>Feb 15, 2023</td>\n",
       "    </tr>\n",
       "    <tr>\n",
       "      <th>4</th>\n",
       "      <td>Everything About COMMERCE Stream !! Which Stre...</td>\n",
       "      <td>https://www.youtube.com/watch?v=hC86u4g6QPk</td>\n",
       "      <td>https://i.ytimg.com/vi/hC86u4g6QPk/hqdefault.j...</td>\n",
       "      <td>25,806 views</td>\n",
       "      <td>Feb 9, 2023</td>\n",
       "    </tr>\n",
       "  </tbody>\n",
       "</table>\n",
       "</div>"
      ],
      "text/plain": [
       "                                               title  \\\n",
       "0  Best technique to attempt SST paper in Board e...   \n",
       "1  Last Minute Strategy To Score More Than 98% ||...   \n",
       "2  Why You Should Choose Commerce After 10th? || ...   \n",
       "3  Follow This Plan To Score More Than 95% in Boa...   \n",
       "4  Everything About COMMERCE Stream !! Which Stre...   \n",
       "\n",
       "                                          urls  \\\n",
       "0  https://www.youtube.com/watch?v=AM2Dt7cNebw   \n",
       "1  https://www.youtube.com/watch?v=7nMJVhey9TM   \n",
       "2  https://www.youtube.com/watch?v=FSVVlcFUCMk   \n",
       "3  https://www.youtube.com/watch?v=vKxdTuOirnI   \n",
       "4  https://www.youtube.com/watch?v=hC86u4g6QPk   \n",
       "\n",
       "                                          thumbnails          views  \\\n",
       "0  https://i.ytimg.com/vi/AM2Dt7cNebw/hqdefault.j...   37,836 views   \n",
       "1  https://i.ytimg.com/vi/7nMJVhey9TM/hqdefault.j...   19,819 views   \n",
       "2  https://i.ytimg.com/vi/FSVVlcFUCMk/hqdefault.j...   26,934 views   \n",
       "3  https://i.ytimg.com/vi/vKxdTuOirnI/hqdefault.j...  302,631 views   \n",
       "4  https://i.ytimg.com/vi/hC86u4g6QPk/hqdefault.j...   25,806 views   \n",
       "\n",
       "     uploadDate  \n",
       "0  Feb 22, 2023  \n",
       "1  Feb 21, 2023  \n",
       "2  Feb 20, 2023  \n",
       "3  Feb 15, 2023  \n",
       "4   Feb 9, 2023  "
      ]
     },
     "execution_count": 37,
     "metadata": {},
     "output_type": "execute_result"
    }
   ],
   "source": [
    "import pandas as pd\n",
    "df = pd.DataFrame({'title':top5titles,'urls':top5links,'thumbnails':top5thumbnails,'views':views_exact,'uploadDate':dates})\n",
    "df"
   ]
  },
  {
   "cell_type": "code",
   "execution_count": 38,
   "metadata": {},
   "outputs": [],
   "source": [
    "df.to_csv('YoutubeData.csv',index=False)"
   ]
  },
  {
   "attachments": {},
   "cell_type": "markdown",
   "metadata": {},
   "source": [
    "[Link to YoutubeData.csv](YoutubeData.csv)"
   ]
  },
  {
   "attachments": {},
   "cell_type": "markdown",
   "metadata": {},
   "source": [
    "<a id=\"7\"></a>\n",
    "\n",
    "# <p style=\"padding:10px;background-color:#87CEEB ;margin:10;color:#000000;font-family:newtimeroman;font-size:100%;text-align:center;border-radius: 10px 10px ;overflow:hidden;font-weight:50\">Single Selenium Function do all above activities</p>"
   ]
  },
  {
   "cell_type": "code",
   "execution_count": 45,
   "metadata": {},
   "outputs": [],
   "source": [
    "def get_yt_data(url):\n",
    "    driver = webdriver.Chrome(executable_path=\".\\Assignment 21 - 22 February 2023\\chromedriver.exe\")\n",
    "    driver.get(url)\n",
    "    driver.maximize_window()\n",
    "    time.sleep(4)\n",
    "        \n",
    "    # First Get Titles\n",
    "    titles = driver.find_elements(By.XPATH,\"//yt-formatted-string[@id='video-title']\")\n",
    "    title_text = []\n",
    "    for i in titles:\n",
    "        title_text.append(i.text)\n",
    "    top5titles = title_text[0:5]\n",
    "\n",
    "    # Get Thumbnails\n",
    "    driver.execute_script(\"window.scrollTo(0, 200)\")\n",
    "    time.sleep(2)\n",
    "    images = driver.find_elements(By.TAG_NAME,'img')\n",
    "    img_links = []\n",
    "    for i in images:    \n",
    "        link = i.get_attribute('src')\n",
    "        if str(link).find('i.ytimg.com')>0:\n",
    "            img_links.append(link)\n",
    "    top5thumbnails = img_links[0:5]\n",
    "\n",
    "    # Get Video URL, Views and Date\n",
    "    video_urls = []\n",
    "    views_exact = []\n",
    "    dates = []\n",
    "    for i in range(5):\n",
    "        driver.get(url)\n",
    "        time.sleep(2)\n",
    "        link_finder = driver.find_elements(By.XPATH,\"//a[@id='thumbnail']\")\n",
    "        link_finder[i+1].click()\n",
    "        time.sleep(2)\n",
    "        video_urls.append(driver.current_url)\n",
    "        time.sleep(2)\n",
    "        driver.execute_script(\"window.scrollTo(0, 200)\")\n",
    "        time.sleep(1)\n",
    "        show_more = driver.find_element(By.XPATH,\"//tp-yt-paper-button[@id='expand']\")\n",
    "        show_more.click()\n",
    "        time.sleep(1)\n",
    "        views_and_date = driver.find_elements(By.XPATH,\"//span[@class='style-scope yt-formatted-string bold']\")\n",
    "        for j in views_and_date:\n",
    "            text_str = j.text\n",
    "            if text_str and text_str.strip():\n",
    "                if text_str.find('views')>0:\n",
    "                    views_exact.append(text_str)\n",
    "                else:\n",
    "                    dates.append(text_str)\n",
    "\n",
    "    # Creating A final Dictionary\n",
    "    dct_final = {'title':top5titles,'views':views_exact,'uploadDate':dates,'videoURL':video_urls,'thumbnails':top5thumbnails}\n",
    "        \n",
    "    # Creating a DataFrame\n",
    "    df_final = pd.DataFrame(dct_final)\n",
    "\n",
    "    # Closing driver\n",
    "    driver.close()\n",
    "\n",
    "    return df_final  \n",
    "    "
   ]
  },
  {
   "cell_type": "code",
   "execution_count": 54,
   "metadata": {},
   "outputs": [
    {
     "name": "stderr",
     "output_type": "stream",
     "text": [
      "C:\\Users\\Utkarsh Gaikwad\\AppData\\Local\\Temp\\ipykernel_1728\\4034587315.py:2: DeprecationWarning: executable_path has been deprecated, please pass in a Service object\n",
      "  driver = webdriver.Chrome(executable_path=\".\\Assignment 21 - 22 February 2023\\chromedriver.exe\")\n"
     ]
    },
    {
     "data": {
      "text/html": [
       "<div>\n",
       "<style scoped>\n",
       "    .dataframe tbody tr th:only-of-type {\n",
       "        vertical-align: middle;\n",
       "    }\n",
       "\n",
       "    .dataframe tbody tr th {\n",
       "        vertical-align: top;\n",
       "    }\n",
       "\n",
       "    .dataframe thead th {\n",
       "        text-align: right;\n",
       "    }\n",
       "</style>\n",
       "<table border=\"1\" class=\"dataframe\">\n",
       "  <thead>\n",
       "    <tr style=\"text-align: right;\">\n",
       "      <th></th>\n",
       "      <th>title</th>\n",
       "      <th>views</th>\n",
       "      <th>uploadDate</th>\n",
       "      <th>videoURL</th>\n",
       "      <th>thumbnails</th>\n",
       "    </tr>\n",
       "  </thead>\n",
       "  <tbody>\n",
       "    <tr>\n",
       "      <th>0</th>\n",
       "      <td>Best technique to attempt SST paper in Board e...</td>\n",
       "      <td>37,989 views</td>\n",
       "      <td>Feb 22, 2023</td>\n",
       "      <td>https://www.youtube.com/watch?v=AM2Dt7cNebw</td>\n",
       "      <td>https://i.ytimg.com/vi/AM2Dt7cNebw/hqdefault.j...</td>\n",
       "    </tr>\n",
       "    <tr>\n",
       "      <th>1</th>\n",
       "      <td>Last Minute Strategy To Score More Than 98% ||...</td>\n",
       "      <td>19,837 views</td>\n",
       "      <td>Feb 21, 2023</td>\n",
       "      <td>https://www.youtube.com/watch?v=7nMJVhey9TM</td>\n",
       "      <td>https://i.ytimg.com/vi/7nMJVhey9TM/hqdefault.j...</td>\n",
       "    </tr>\n",
       "    <tr>\n",
       "      <th>2</th>\n",
       "      <td>Why You Should Choose Commerce After 10th? || ...</td>\n",
       "      <td>26,939 views</td>\n",
       "      <td>Feb 20, 2023</td>\n",
       "      <td>https://www.youtube.com/watch?v=FSVVlcFUCMk</td>\n",
       "      <td>https://i.ytimg.com/vi/FSVVlcFUCMk/hqdefault.j...</td>\n",
       "    </tr>\n",
       "    <tr>\n",
       "      <th>3</th>\n",
       "      <td>Follow This Plan To Score More Than 95% in Boa...</td>\n",
       "      <td>302,705 views</td>\n",
       "      <td>Feb 15, 2023</td>\n",
       "      <td>https://www.youtube.com/watch?v=vKxdTuOirnI</td>\n",
       "      <td>https://i.ytimg.com/vi/vKxdTuOirnI/hqdefault.j...</td>\n",
       "    </tr>\n",
       "    <tr>\n",
       "      <th>4</th>\n",
       "      <td>Everything About COMMERCE Stream !! Which Stre...</td>\n",
       "      <td>25,812 views</td>\n",
       "      <td>Feb 9, 2023</td>\n",
       "      <td>https://www.youtube.com/watch?v=hC86u4g6QPk</td>\n",
       "      <td>https://i.ytimg.com/vi/hC86u4g6QPk/hqdefault.j...</td>\n",
       "    </tr>\n",
       "  </tbody>\n",
       "</table>\n",
       "</div>"
      ],
      "text/plain": [
       "                                               title          views  \\\n",
       "0  Best technique to attempt SST paper in Board e...   37,989 views   \n",
       "1  Last Minute Strategy To Score More Than 98% ||...   19,837 views   \n",
       "2  Why You Should Choose Commerce After 10th? || ...   26,939 views   \n",
       "3  Follow This Plan To Score More Than 95% in Boa...  302,705 views   \n",
       "4  Everything About COMMERCE Stream !! Which Stre...   25,812 views   \n",
       "\n",
       "     uploadDate                                     videoURL  \\\n",
       "0  Feb 22, 2023  https://www.youtube.com/watch?v=AM2Dt7cNebw   \n",
       "1  Feb 21, 2023  https://www.youtube.com/watch?v=7nMJVhey9TM   \n",
       "2  Feb 20, 2023  https://www.youtube.com/watch?v=FSVVlcFUCMk   \n",
       "3  Feb 15, 2023  https://www.youtube.com/watch?v=vKxdTuOirnI   \n",
       "4   Feb 9, 2023  https://www.youtube.com/watch?v=hC86u4g6QPk   \n",
       "\n",
       "                                          thumbnails  \n",
       "0  https://i.ytimg.com/vi/AM2Dt7cNebw/hqdefault.j...  \n",
       "1  https://i.ytimg.com/vi/7nMJVhey9TM/hqdefault.j...  \n",
       "2  https://i.ytimg.com/vi/FSVVlcFUCMk/hqdefault.j...  \n",
       "3  https://i.ytimg.com/vi/vKxdTuOirnI/hqdefault.j...  \n",
       "4  https://i.ytimg.com/vi/hC86u4g6QPk/hqdefault.j...  "
      ]
     },
     "execution_count": 54,
     "metadata": {},
     "output_type": "execute_result"
    }
   ],
   "source": [
    "url = \"https://www.youtube.com/@PW-Foundation/videos\"\n",
    "get_yt_data(url)"
   ]
  },
  {
   "attachments": {},
   "cell_type": "markdown",
   "metadata": {},
   "source": [
    "## Testing scraping data from my youtube channel"
   ]
  },
  {
   "cell_type": "code",
   "execution_count": 47,
   "metadata": {},
   "outputs": [
    {
     "name": "stderr",
     "output_type": "stream",
     "text": [
      "C:\\Users\\Utkarsh Gaikwad\\AppData\\Local\\Temp\\ipykernel_1728\\4034587315.py:2: DeprecationWarning: executable_path has been deprecated, please pass in a Service object\n",
      "  driver = webdriver.Chrome(executable_path=\".\\Assignment 21 - 22 February 2023\\chromedriver.exe\")\n"
     ]
    }
   ],
   "source": [
    "my_channel = \"https://www.youtube.com/@utkarshgaikwad2476/videos\"\n",
    "df_my_channel = get_yt_data(my_channel)"
   ]
  },
  {
   "cell_type": "code",
   "execution_count": 48,
   "metadata": {},
   "outputs": [
    {
     "data": {
      "text/html": [
       "<div>\n",
       "<style scoped>\n",
       "    .dataframe tbody tr th:only-of-type {\n",
       "        vertical-align: middle;\n",
       "    }\n",
       "\n",
       "    .dataframe tbody tr th {\n",
       "        vertical-align: top;\n",
       "    }\n",
       "\n",
       "    .dataframe thead th {\n",
       "        text-align: right;\n",
       "    }\n",
       "</style>\n",
       "<table border=\"1\" class=\"dataframe\">\n",
       "  <thead>\n",
       "    <tr style=\"text-align: right;\">\n",
       "      <th></th>\n",
       "      <th>title</th>\n",
       "      <th>views</th>\n",
       "      <th>uploadDate</th>\n",
       "      <th>videoURL</th>\n",
       "      <th>thumbnails</th>\n",
       "    </tr>\n",
       "  </thead>\n",
       "  <tbody>\n",
       "    <tr>\n",
       "      <th>0</th>\n",
       "      <td>Ved Tujha | Utkarsh Gaikwad #coversong #valent...</td>\n",
       "      <td>84 views</td>\n",
       "      <td>Feb 14, 2023</td>\n",
       "      <td>https://www.youtube.com/watch?v=AM2Dt7cNebw</td>\n",
       "      <td>https://i.ytimg.com/vi/vDRGHQzI7sM/hqdefault.j...</td>\n",
       "    </tr>\n",
       "    <tr>\n",
       "      <th>1</th>\n",
       "      <td>Automated Machine Learning Web App</td>\n",
       "      <td>37 views</td>\n",
       "      <td>Dec 18, 2022</td>\n",
       "      <td>https://www.youtube.com/watch?v=7nMJVhey9TM</td>\n",
       "      <td>https://i.ytimg.com/vi/yFWCdmtNBMw/hqdefault.j...</td>\n",
       "    </tr>\n",
       "    <tr>\n",
       "      <th>2</th>\n",
       "      <td>Credit Card Default Prediction Project</td>\n",
       "      <td>103 views</td>\n",
       "      <td>Oct 20, 2022</td>\n",
       "      <td>https://www.youtube.com/watch?v=FSVVlcFUCMk</td>\n",
       "      <td>https://i.ytimg.com/vi/ltktrNRSWEU/hqdefault.j...</td>\n",
       "    </tr>\n",
       "    <tr>\n",
       "      <th>3</th>\n",
       "      <td>Banjara Short Cover</td>\n",
       "      <td>55 views</td>\n",
       "      <td>Aug 6, 2022</td>\n",
       "      <td>https://www.youtube.com/watch?v=vKxdTuOirnI</td>\n",
       "      <td>https://i.ytimg.com/vi/aja5l7bM97Y/hqdefault.j...</td>\n",
       "    </tr>\n",
       "    <tr>\n",
       "      <th>4</th>\n",
       "      <td>Melancholy a Composition by me in G Minor</td>\n",
       "      <td>197 views</td>\n",
       "      <td>Aug 4, 2022</td>\n",
       "      <td>https://www.youtube.com/watch?v=hC86u4g6QPk</td>\n",
       "      <td>https://i.ytimg.com/vi/WQZj6Y17FeA/hqdefault.j...</td>\n",
       "    </tr>\n",
       "  </tbody>\n",
       "</table>\n",
       "</div>"
      ],
      "text/plain": [
       "                                               title      views    uploadDate  \\\n",
       "0  Ved Tujha | Utkarsh Gaikwad #coversong #valent...   84 views  Feb 14, 2023   \n",
       "1                 Automated Machine Learning Web App   37 views  Dec 18, 2022   \n",
       "2             Credit Card Default Prediction Project  103 views  Oct 20, 2022   \n",
       "3                                Banjara Short Cover   55 views   Aug 6, 2022   \n",
       "4          Melancholy a Composition by me in G Minor  197 views   Aug 4, 2022   \n",
       "\n",
       "                                      videoURL  \\\n",
       "0  https://www.youtube.com/watch?v=AM2Dt7cNebw   \n",
       "1  https://www.youtube.com/watch?v=7nMJVhey9TM   \n",
       "2  https://www.youtube.com/watch?v=FSVVlcFUCMk   \n",
       "3  https://www.youtube.com/watch?v=vKxdTuOirnI   \n",
       "4  https://www.youtube.com/watch?v=hC86u4g6QPk   \n",
       "\n",
       "                                          thumbnails  \n",
       "0  https://i.ytimg.com/vi/vDRGHQzI7sM/hqdefault.j...  \n",
       "1  https://i.ytimg.com/vi/yFWCdmtNBMw/hqdefault.j...  \n",
       "2  https://i.ytimg.com/vi/ltktrNRSWEU/hqdefault.j...  \n",
       "3  https://i.ytimg.com/vi/aja5l7bM97Y/hqdefault.j...  \n",
       "4  https://i.ytimg.com/vi/WQZj6Y17FeA/hqdefault.j...  "
      ]
     },
     "execution_count": 48,
     "metadata": {},
     "output_type": "execute_result"
    }
   ],
   "source": [
    "df_my_channel"
   ]
  },
  {
   "attachments": {},
   "cell_type": "markdown",
   "metadata": {},
   "source": [
    "<a id=\"8\"></a>\n",
    "\n",
    "# <p style=\"padding:10px;background-color:#87CEEB ;margin:10;color:#000000;font-family:newtimeroman;font-size:100%;text-align:center;border-radius: 10px 10px ;overflow:hidden;font-weight:50\">Deployment on Local System</p>"
   ]
  },
  {
   "attachments": {},
   "cell_type": "markdown",
   "metadata": {},
   "source": [
    "### 1. Youtube Link for my Deployment : [https://www.youtube.com/watch?v=7vJGMXdVFts](https://www.youtube.com/watch?v=7vJGMXdVFts)"
   ]
  },
  {
   "attachments": {},
   "cell_type": "markdown",
   "metadata": {},
   "source": [
    "### 2. Github Repository for the Project: https://github.com/utkarshg1/YouTube-Scrapper"
   ]
  },
  {
   "attachments": {},
   "cell_type": "markdown",
   "metadata": {},
   "source": [
    "### 3. GitHub Flask app.py link inside Repository: [https://github.com/utkarshg1/YouTube-Scrapper/blob/main/app.py](https://github.com/utkarshg1/YouTube-Scrapper/blob/main/app.py)"
   ]
  },
  {
   "attachments": {},
   "cell_type": "markdown",
   "metadata": {},
   "source": [
    "### 4. Homepage Screenshot"
   ]
  },
  {
   "attachments": {},
   "cell_type": "markdown",
   "metadata": {},
   "source": [
    "![Homepage Screenshot of my Web App](./UI%20Screenshots/HomePage.jpg)"
   ]
  },
  {
   "attachments": {},
   "cell_type": "markdown",
   "metadata": {},
   "source": [
    "### 5. Final Results inside my WebApp"
   ]
  },
  {
   "attachments": {},
   "cell_type": "markdown",
   "metadata": {},
   "source": [
    "![Results of my WebApp](./UI%20Screenshots/Results.jpg)"
   ]
  },
  {
   "attachments": {},
   "cell_type": "markdown",
   "metadata": {},
   "source": [
    "### 6. Results of saved csv file"
   ]
  },
  {
   "attachments": {},
   "cell_type": "markdown",
   "metadata": {},
   "source": [
    "![CSV File Results](./UI%20Screenshots/CSVScreenshot.jpg)"
   ]
  }
 ],
 "metadata": {
  "kernelspec": {
   "display_name": "venv",
   "language": "python",
   "name": "python3"
  },
  "language_info": {
   "codemirror_mode": {
    "name": "ipython",
    "version": 3
   },
   "file_extension": ".py",
   "mimetype": "text/x-python",
   "name": "python",
   "nbconvert_exporter": "python",
   "pygments_lexer": "ipython3",
   "version": "3.10.7"
  },
  "orig_nbformat": 4,
  "vscode": {
   "interpreter": {
    "hash": "27149e82490bdaa27222c4e29544e396278d224a9f42010d392c3451ce079b12"
   }
  }
 },
 "nbformat": 4,
 "nbformat_minor": 2
}
